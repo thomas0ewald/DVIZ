{
 "cells": [
  {
   "cell_type": "markdown",
   "id": "b8790841-4559-4e7a-9609-6e486255dcc9",
   "metadata": {},
   "source": [
    "Final Project"
   ]
  },
  {
   "cell_type": "code",
   "execution_count": null,
   "id": "436c142f-8b7a-426d-8b7b-91f1094a8be6",
   "metadata": {},
   "outputs": [],
   "source": []
  },
  {
   "cell_type": "code",
   "execution_count": null,
   "id": "7032af10-1a24-4770-a4f3-b0f529c6291a",
   "metadata": {},
   "outputs": [],
   "source": []
  },
  {
   "cell_type": "code",
   "execution_count": null,
   "id": "b962729c-7551-4d7b-9133-11cf9ebd3c6a",
   "metadata": {},
   "outputs": [],
   "source": []
  }
 ],
 "metadata": {
  "kernelspec": {
   "display_name": "Python 3 (ipykernel)",
   "language": "python",
   "name": "python3"
  },
  "language_info": {
   "codemirror_mode": {
    "name": "ipython",
    "version": 3
   },
   "file_extension": ".py",
   "mimetype": "text/x-python",
   "name": "python",
   "nbconvert_exporter": "python",
   "pygments_lexer": "ipython3",
   "version": "3.11.9"
  }
 },
 "nbformat": 4,
 "nbformat_minor": 5
}

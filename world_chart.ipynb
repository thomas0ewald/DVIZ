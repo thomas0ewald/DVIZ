{
 "cells": [
  {
   "cell_type": "markdown",
   "id": "b8790841-4559-4e7a-9609-6e486255dcc9",
   "metadata": {},
   "source": [
    "Final Project"
   ]
  },
  {
   "cell_type": "code",
   "execution_count": 1,
   "id": "436c142f-8b7a-426d-8b7b-91f1094a8be6",
   "metadata": {},
   "outputs": [],
   "source": [
    "import plotly.express as px\n",
    "import pycountry\n",
    "import dash\n",
    "from dash import dcc, html\n",
    "from dash.dependencies import Input, Output\n",
    "import pandas as pd\n"
   ]
  },
  {
   "cell_type": "code",
   "execution_count": 29,
   "id": "7032af10-1a24-4770-a4f3-b0f529c6291a",
   "metadata": {},
   "outputs": [],
   "source": [
    "df = pd.read_csv('CO2_Emissions_1960-2018.csv')\n",
    "\n",
    "# reshape the date to be able to display co2 emmsion per years\n",
    "df = df.melt(id_vars=[\"Country Name\"], var_name=\"Year\", value_name=\"Emission Per Year\")"
   ]
  },
  {
   "cell_type": "code",
   "execution_count": 30,
   "id": "7c71075e",
   "metadata": {},
   "outputs": [
    {
     "data": {
      "text/html": [
       "\n",
       "        <iframe\n",
       "            width=\"100%\"\n",
       "            height=\"650\"\n",
       "            src=\"http://127.0.0.1:8050/\"\n",
       "            frameborder=\"0\"\n",
       "            allowfullscreen\n",
       "            \n",
       "        ></iframe>\n",
       "        "
      ],
      "text/plain": [
       "<IPython.lib.display.IFrame at 0x2b5daf89f50>"
      ]
     },
     "metadata": {},
     "output_type": "display_data"
    }
   ],
   "source": [
    "\n",
    "# get gdp\n",
    "df_gdp = pd.read_csv('countries_gdp_hist.csv', sep=';')\n",
    "df['Year'] = df['Year'].astype(int)\n",
    "df_gdp['year'] = df_gdp['year'].astype(int)\n",
    "\n",
    "\n",
    "\n",
    "# convert country names to iso format\n",
    "def get_iso_alpha_3(country_name):\n",
    "    try:\n",
    "        return pycountry.countries.lookup(country_name).alpha_3\n",
    "    except LookupError:\n",
    "        return None\n",
    "\n",
    "df['iso_alpha'] = df['Country Name'].apply(get_iso_alpha_3)\n",
    "\n",
    "\n",
    "df_merged = df.merge(df_gdp, left_on=['iso_alpha', 'Year'], right_on=['country_name', 'year'], how='outer')\n",
    "\n",
    "# init dash app\n",
    "app = dash.Dash(__name__)\n",
    "\n",
    "app.layout = html.Div([\n",
    "    # create worldmap\n",
    "    dcc.Graph(\n",
    "        id='choropleth-map',\n",
    "        figure=px.choropleth(\n",
    "            df_merged,\n",
    "            locations=\"iso_alpha\",\n",
    "            color=\"Emission Per Year\",\n",
    "            scope=\"world\",\n",
    "            animation_frame=\"Year\",\n",
    "            hover_name=\"Country Name\",\n",
    "            width=1000,\n",
    "            height=600\n",
    "        )\n",
    "    ),\n",
    "    dcc.Graph(id='bar-chart')\n",
    "])\n",
    "\n",
    "@app.callback(\n",
    "    Output('bar-chart', 'figure'),\n",
    "    [Input('choropleth-map', 'clickData')]\n",
    ")\n",
    "\n",
    "## prepare bar chart after cllick on country\n",
    "def update_bar_chart(clickData):\n",
    "    if clickData is None:\n",
    "        country_name = 'Switzerland'\n",
    "    else:\n",
    "        country_name = clickData['points'][0]['hovertext']\n",
    "    filtered_df = df_merged[df_merged['country_name'] == country_name]\n",
    "    fig = px.bar(filtered_df, x='year', y='total_gdp_million', title=f'GDP for country: {country_name}')\n",
    "    return fig\n",
    "\n",
    "# def update_bar_chart(clickData):\n",
    "#     if clickData is None:\n",
    "#         country_name = 'Switzerland'\n",
    "#     else:\n",
    "#         country_name = clickData['points'][0]['hovertext']\n",
    "    \n",
    "#     # Filtere die Daten für das angeklickte Land\n",
    "#     filtered_df = df_merged[df_merged['country_name'] == country_name]\n",
    "    \n",
    "#     # Erstelle ein Bar-Chart\n",
    "#     fig = px.bar(filtered_df, x='year', y='total_gdp_million', title=f'GDP for country: {country_name}')\n",
    "    \n",
    "#     # Füge eine rote Linie hinzu, die 'Emission Per Year' darstellt\n",
    "#     if not filtered_df.empty:\n",
    "#         fig.add_shape(\n",
    "#             type=\"line\",\n",
    "#             x0=filtered_df['year'].min(),\n",
    "#             y0=filtered_df['Emission Per Year'].mean(),  # Beispiel: Durchschnitt\n",
    "#             x1=filtered_df['year'].max(),\n",
    "#             y1=filtered_df['Emission Per Year'].mean(),\n",
    "#             line=dict(color=\"red\", width=2, dash=\"dash\"),\n",
    "#         )\n",
    "    \n",
    "#     # Aktualisiere die Achsentitel für mehr Klarheit\n",
    "#     fig.update_layout(\n",
    "#         xaxis_title=\"Year\",\n",
    "#         yaxis_title=\"GDP (in million)\",\n",
    "#     )\n",
    "    \n",
    "#     return fig\n",
    "\n",
    "\n",
    "if __name__ == '__main__':\n",
    "    app.run_server(debug=True)\n"
   ]
  },
  {
   "cell_type": "code",
   "execution_count": 14,
   "id": "dd57f705",
   "metadata": {},
   "outputs": [],
   "source": [
    "def update_bar_chart(clickData):\n",
    "    if clickData is None:\n",
    "        country_name = 'Switzerland'\n",
    "    else:\n",
    "        country_name = clickData['points'][0]['hovertext']\n",
    "    \n",
    "    # Filtere die Daten für das angeklickte Land\n",
    "    filtered_df = df_merged[df_merged['country_name'] == country_name]\n",
    "    \n",
    "    # Erstelle ein Bar-Chart\n",
    "    fig = px.bar(filtered_df, x='year', y='total_gdp_million', title=f'GDP for country: {country_name}')\n",
    "    \n",
    "    # Füge eine rote Linie hinzu, die 'Emission Per Year' darstellt\n",
    "    if not filtered_df.empty:\n",
    "        fig.add_shape(\n",
    "            type=\"line\",\n",
    "            x0=filtered_df['year'].min(),\n",
    "            y0=filtered_df['Emission Per Year'].mean(),  # Beispiel: Durchschnitt\n",
    "            x1=filtered_df['year'].max(),\n",
    "            y1=filtered_df['Emission Per Year'].mean(),\n",
    "            line=dict(color=\"red\", width=2, dash=\"dash\"),\n",
    "        )\n",
    "    \n",
    "    # Aktualisiere die Achsentitel für mehr Klarheit\n",
    "    fig.update_layout(\n",
    "        xaxis_title=\"Year\",\n",
    "        yaxis_title=\"GDP (in million)\",\n",
    "    )\n",
    "    \n",
    "    return fig\n"
   ]
  },
  {
   "cell_type": "code",
   "execution_count": null,
   "id": "b0444a2f",
   "metadata": {},
   "outputs": [],
   "source": []
  }
 ],
 "metadata": {
  "kernelspec": {
   "display_name": "Python 3",
   "language": "python",
   "name": "python3"
  },
  "language_info": {
   "codemirror_mode": {
    "name": "ipython",
    "version": 3
   },
   "file_extension": ".py",
   "mimetype": "text/x-python",
   "name": "python",
   "nbconvert_exporter": "python",
   "pygments_lexer": "ipython3",
   "version": "3.11.9"
  }
 },
 "nbformat": 4,
 "nbformat_minor": 5
}
